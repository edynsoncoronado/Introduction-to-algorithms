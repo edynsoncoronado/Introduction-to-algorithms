{
 "cells": [
  {
   "cell_type": "markdown",
   "metadata": {},
   "source": [
    "# The divide and conquer"
   ]
  },
  {
   "cell_type": "markdown",
   "metadata": {},
   "source": [
    "To solve a given problem, they call themselves recursively one or more times to deal with closely related sub-problems."
   ]
  },
  {
   "cell_type": "markdown",
   "metadata": {},
   "source": [
    "The divide-and-conquer paradigm involves three steps at each level of the recursion:\n",
    "- Divide: the problem into a number of subproblems that are smaller instances of the same problem.\n",
    "- Conquer: the subproblems by solving them recursively. If the subproblem sizes are small enough, however, just solve the subproblems in a straightforward manner.\n",
    "- Combine: the solutions to the subproblems into the solution for the original problem."
   ]
  },
  {
   "cell_type": "markdown",
   "metadata": {},
   "source": [
    "![algorithms](../src/img4.png)"
   ]
  },
  {
   "cell_type": "markdown",
   "metadata": {},
   "source": [
    "Let's draw out the merging times in a tree:"
   ]
  },
  {
   "cell_type": "markdown",
   "metadata": {},
   "source": [
    "![tree](../src/img5.png)"
   ]
  },
  {
   "cell_type": "markdown",
   "metadata": {},
   "source": [
    "- As the subproblems get smaller, the number of subproblems doubles at each \"level\" of the recursion, but the merging time halves.\n",
    "- The doubling and halving cancel each other out, and so the total merging time is $cn$ at each level of recursion. \n",
    "- Eventually, we get down to subproblems of size 1: the base case. "
   ]
  },
  {
   "cell_type": "markdown",
   "metadata": {},
   "source": [
    "![base case](../src/img6.png)"
   ]
  },
  {
   "cell_type": "markdown",
   "metadata": {},
   "source": [
    "- The total time for mergeSort is the sum of the merging times for all the levels.\n",
    "- If there are $l$ levels in the tree, then the total merging time is $l⋅cn$.\n",
    "- So what is $l$? We start with subproblems of size $n$ and repeatedly halve until we get down to subproblems of size $1$.\n",
    "- The answer is $ l = \\log_{2}n+1 $\n",
    "- If $n = 8$, then $\\log_{2}n + 1 = 4$, the tree has four levels: $ n = 8, 4, 2, 1 $."
   ]
  },
  {
   "cell_type": "markdown",
   "metadata": {},
   "source": [
    "The total time is:\n",
    "$$ cn(\\log_{2}n + 1) $$"
   ]
  },
  {
   "cell_type": "markdown",
   "metadata": {},
   "source": [
    "BigO notation:\n",
    "- We can discard the low-order term $(+1)$.\n",
    "- The constant coefficient $(c)$.\n",
    "$$ O(n \\log_{2}n) $$"
   ]
  },
  {
   "cell_type": "markdown",
   "metadata": {},
   "source": [
    "Resources:\n",
    "- https://www.khanacademy.org/computing/computer-science/algorithms/merge-sort/a/analysis-of-merge-sort\n",
    "- https://medium.com/@amirziai/merge-sort-walkthrough-with-code-in-python-e4f76d90a4ea"
   ]
  }
 ],
 "metadata": {
  "kernelspec": {
   "display_name": "Python 3",
   "language": "python",
   "name": "python3"
  },
  "language_info": {
   "codemirror_mode": {
    "name": "ipython",
    "version": 3
   },
   "file_extension": ".py",
   "mimetype": "text/x-python",
   "name": "python",
   "nbconvert_exporter": "python",
   "pygments_lexer": "ipython3",
   "version": "3.8.3"
  }
 },
 "nbformat": 4,
 "nbformat_minor": 4
}
