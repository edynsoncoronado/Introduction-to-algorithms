{
 "cells": [
  {
   "cell_type": "markdown",
   "metadata": {},
   "source": [
    "# The divide and conquer"
   ]
  },
  {
   "cell_type": "markdown",
   "metadata": {},
   "source": [
    "To solve a given problem, they call themselves recursively one or more times to deal with closely related sub-problems."
   ]
  },
  {
   "cell_type": "markdown",
   "metadata": {},
   "source": [
    "The divide-and-conquer paradigm involves three steps at each level of the recursion:\n",
    "- Divide: the problem into a number of subproblems that are smaller instances of the same problem.\n",
    "- Conquer: the subproblems by solving them recursively. If the subproblem sizes are small enough, however, just solve the subproblems in a straightforward manner.\n",
    "- Combine: the solutions to the subproblems into the solution for the original problem."
   ]
  },
  {
   "cell_type": "markdown",
   "metadata": {},
   "source": [
    "![algorithms](../src/img4.png)"
   ]
  },
  {
   "cell_type": "markdown",
   "metadata": {},
   "source": [
    "Let's draw out the merging times in a tree:"
   ]
  },
  {
   "cell_type": "markdown",
   "metadata": {},
   "source": [
    "![tree](../src/img5.png)"
   ]
  },
  {
   "cell_type": "markdown",
   "metadata": {},
   "source": [
    "- As the subproblems get smaller, the number of subproblems doubles at each \"level\" of the recursion, but the merging time halves.\n",
    "- The doubling and halving cancel each other out, and so the total merging time is $cn$ at each level of recursion. \n",
    "- Eventually, we get down to subproblems of size 1: the base case. "
   ]
  },
  {
   "cell_type": "markdown",
   "metadata": {},
   "source": [
    "![base case](../src/img6.png)"
   ]
  },
  {
   "cell_type": "markdown",
   "metadata": {},
   "source": [
    "- The total time for mergeSort is the sum of the merging times for all the levels.\n",
    "- If there are $l$ levels in the tree, then the total merging time is $l⋅cn$.\n",
    "- So what is $l$? We start with subproblems of size $n$ and repeatedly halve until we get down to subproblems of size $1$.\n",
    "- The answer is $ l = \\log_{2}n+1 $\n",
    "- If $n = 8$, then $\\log_{2}n + 1 = 4$, the tree has four levels: $ n = 8, 4, 2, 1 $."
   ]
  },
  {
   "cell_type": "markdown",
   "metadata": {},
   "source": [
    "The total time is:\n",
    "$$ cn(\\log_{2}n + 1) $$"
   ]
  },
  {
   "cell_type": "markdown",
   "metadata": {},
   "source": [
    "BigO notation:\n",
    "- We can discard the low-order term $(+1)$.\n",
    "- The constant coefficient $(c)$.\n",
    "$$ O(n \\log_{2}n) $$"
   ]
  },
  {
   "cell_type": "markdown",
   "metadata": {},
   "source": [
    "## Coding"
   ]
  },
  {
   "cell_type": "markdown",
   "metadata": {},
   "source": [
    "### Step 0 - Testing utilities"
   ]
  },
  {
   "cell_type": "code",
   "execution_count": 2,
   "metadata": {},
   "outputs": [],
   "source": [
    "import random\n",
    "random.seed(0)\n",
    "\n",
    "from resources.utils import run_tests"
   ]
  },
  {
   "cell_type": "markdown",
   "metadata": {},
   "source": [
    "### Step 1 - split"
   ]
  },
  {
   "cell_type": "code",
   "execution_count": 6,
   "metadata": {},
   "outputs": [],
   "source": [
    "def split(input_list):\n",
    "    \"\"\"\n",
    "    Splits a list into two pieces\n",
    "    :param input_list: list\n",
    "    :return: left and right lists (list, list)\n",
    "    \"\"\"\n",
    "    input_list_len = len(input_list)\n",
    "    midpoint = input_list_len // 2\n",
    "    return input_list[:midpoint], input_list[midpoint:]"
   ]
  },
  {
   "cell_type": "code",
   "execution_count": 8,
   "metadata": {},
   "outputs": [],
   "source": [
    "tests_split = [\n",
    "    ({'input_list': [1, 2, 3]}, ([1], [2, 3])),\n",
    "    ({'input_list': [1, 2, 3, 4]}, ([1, 2], [3, 4])),\n",
    "    ({'input_list': [1, 2, 3, 4, 5]}, ([1, 2], [3, 4, 5])),\n",
    "    ({'input_list': [1]}, ([], [1])),\n",
    "    ({'input_list': []}, ([], []))\n",
    "]"
   ]
  },
  {
   "cell_type": "code",
   "execution_count": 9,
   "metadata": {},
   "outputs": [
    {
     "name": "stdout",
     "output_type": "stream",
     "text": [
      "✓ All tests successful\n"
     ]
    }
   ],
   "source": [
    "run_tests(tests_split, split)"
   ]
  },
  {
   "cell_type": "markdown",
   "metadata": {},
   "source": [
    "### Step 2- merge sorted lists"
   ]
  },
  {
   "cell_type": "code",
   "execution_count": 10,
   "metadata": {},
   "outputs": [],
   "source": [
    "def merge_sorted_lists(list_left, list_right):\n",
    "    \"\"\"\n",
    "    Merge two sorted lists\n",
    "    This is a linear operation\n",
    "    O(len(list_right) + len(list_right))\n",
    "    :param left_list: list\n",
    "    :param right_list: list\n",
    "    :return merged list\n",
    "    \"\"\"\n",
    "    # Special case: one or both of lists are empty\n",
    "    if len(list_left) == 0:\n",
    "        return list_right\n",
    "    elif len(list_right) == 0:\n",
    "        return list_left\n",
    "    \n",
    "    # General case\n",
    "    index_left = index_right = 0\n",
    "    list_merged = []  # list to build and return\n",
    "    list_len_target = len(list_left) + len(list_right)\n",
    "    while len(list_merged) < list_len_target:\n",
    "        if list_left[index_left] <= list_right[index_right]:\n",
    "            # Value on the left list is smaller (or equal so it should be selected)\n",
    "            list_merged.append(list_left[index_left])\n",
    "            index_left += 1\n",
    "        else:\n",
    "            # Right value bigger\n",
    "            list_merged.append(list_right[index_right])\n",
    "            index_right += 1\n",
    "            \n",
    "        # If we are at the end of one of the lists we can take a shortcut\n",
    "        if index_right == len(list_right):\n",
    "            # Reached the end of right\n",
    "            # Append the remainder of left and break\n",
    "            list_merged += list_left[index_left:]\n",
    "            break\n",
    "        elif index_left == len(list_left):\n",
    "            # Reached the end of left\n",
    "            # Append the remainder of right and break\n",
    "            list_merged += list_right[index_right:]\n",
    "            break\n",
    "        \n",
    "    return list_merged"
   ]
  },
  {
   "cell_type": "code",
   "execution_count": 11,
   "metadata": {},
   "outputs": [],
   "source": [
    "tests_merged_sorted_lists = [\n",
    "    ({'list_left': [1, 5], 'list_right': [3, 4]}, [1, 3, 4, 5]),\n",
    "    ({'list_left': [5], 'list_right': [1]}, [1, 5]),\n",
    "    ({'list_left': [], 'list_right': []}, []),\n",
    "    ({'list_left': [1, 2, 3, 5], 'list_right': [4]}, [1, 2, 3, 4, 5]),\n",
    "    ({'list_left': [1, 2, 3], 'list_right': []}, [1, 2, 3]),\n",
    "    ({'list_left': [1], 'list_right': [1, 2, 3]}, [1, 1, 2, 3]),\n",
    "    ({'list_left': [1, 1], 'list_right': [1, 1]}, [1, 1, 1, 1]),\n",
    "    ({'list_left': [1, 1], 'list_right': [1, 2]}, [1, 1, 1, 2]),\n",
    "    ({'list_left': [3, 3], 'list_right': [1, 4]}, [1, 3, 3, 4]),\n",
    "]"
   ]
  },
  {
   "cell_type": "code",
   "execution_count": 12,
   "metadata": {},
   "outputs": [
    {
     "name": "stdout",
     "output_type": "stream",
     "text": [
      "✓ All tests successful\n"
     ]
    }
   ],
   "source": [
    "run_tests(tests_merged_sorted_lists, merge_sorted_lists)"
   ]
  },
  {
   "cell_type": "markdown",
   "metadata": {},
   "source": [
    "### Step 3- merge sort\n",
    "- Merge sort only needs to utilize the previous 2 functions\n",
    "- We need to split the lists until they have a single element\n",
    "- A list with a single element is sorted\n",
    "- Now we can merge these single-element (or empty) lists"
   ]
  },
  {
   "cell_type": "code",
   "execution_count": 13,
   "metadata": {},
   "outputs": [],
   "source": [
    "def merge_sort(input_list):\n",
    "    if len(input_list) <= 1:\n",
    "        return input_list\n",
    "    else:\n",
    "        left, right = split(input_list)\n",
    "        # The following line is the most important piece in this whole thing\n",
    "        return merge_sorted_lists(merge_sort(left), merge_sort(right))"
   ]
  },
  {
   "cell_type": "code",
   "execution_count": 15,
   "metadata": {},
   "outputs": [],
   "source": [
    "random_list = [random.randint(1, 1000) for _ in range(100)]\n",
    "tests_merge_sort = [\n",
    "    ({'input_list': [1, 2]}, [1, 2]),\n",
    "    ({'input_list': [2, 1]}, [1, 2]),\n",
    "    ({'input_list': []}, []),\n",
    "    ({'input_list': [1]}, [1]),\n",
    "    ({'input_list': [5, 1, 1]}, [1, 1, 5]),\n",
    "    ({'input_list': [9, 1, 10, 2]}, [1, 2, 9, 10]),\n",
    "    ({'input_list': range(10)[::-1]}, list(range(10))),\n",
    "    ({'input_list': random_list}, sorted(random_list))\n",
    "]"
   ]
  },
  {
   "cell_type": "code",
   "execution_count": 16,
   "metadata": {},
   "outputs": [
    {
     "name": "stdout",
     "output_type": "stream",
     "text": [
      "✓ All tests successful\n"
     ]
    }
   ],
   "source": [
    "run_tests(tests_merge_sort, merge_sort)"
   ]
  },
  {
   "cell_type": "markdown",
   "metadata": {},
   "source": [
    "### Example"
   ]
  },
  {
   "cell_type": "code",
   "execution_count": 18,
   "metadata": {},
   "outputs": [],
   "source": [
    "list_a = [1, 2, 9, 10]"
   ]
  },
  {
   "cell_type": "code",
   "execution_count": 20,
   "metadata": {},
   "outputs": [
    {
     "data": {
      "text/plain": [
       "[1, 2, 9, 10]"
      ]
     },
     "execution_count": 20,
     "metadata": {},
     "output_type": "execute_result"
    }
   ],
   "source": [
    "merge_sort(list_a)"
   ]
  },
  {
   "cell_type": "markdown",
   "metadata": {},
   "source": [
    "![Merge Algorithm](../src/img7.png)"
   ]
  },
  {
   "cell_type": "markdown",
   "metadata": {},
   "source": [
    "Resources:\n",
    "- https://www.khanacademy.org/computing/computer-science/algorithms/merge-sort/a/analysis-of-merge-sort\n",
    "- https://medium.com/@amirziai/merge-sort-walkthrough-with-code-in-python-e4f76d90a4ea\n",
    "- https://github.com/amirziai/learning/blob/master/algorithms/Merge-Sort.ipynb"
   ]
  }
 ],
 "metadata": {
  "kernelspec": {
   "display_name": "Python 3",
   "language": "python",
   "name": "python3"
  },
  "language_info": {
   "codemirror_mode": {
    "name": "ipython",
    "version": 3
   },
   "file_extension": ".py",
   "mimetype": "text/x-python",
   "name": "python",
   "nbconvert_exporter": "python",
   "pygments_lexer": "ipython3",
   "version": "3.8.3"
  }
 },
 "nbformat": 4,
 "nbformat_minor": 4
}
