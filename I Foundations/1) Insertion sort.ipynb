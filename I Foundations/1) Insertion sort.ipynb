{
 "cells": [
  {
   "cell_type": "markdown",
   "metadata": {},
   "source": [
    "# Insertion sort"
   ]
  },
  {
   "cell_type": "markdown",
   "metadata": {},
   "source": [
    "![pseudocode.png](../src/img1.png)"
   ]
  },
  {
   "cell_type": "markdown",
   "metadata": {},
   "source": [
    "- Insertion Sort is an algorithm used to sort a given list of items.  \n",
    "- It does so by iterating through the list and building the sorted output one item at a time.  \n",
    "- Upon each iteration, an item is taken from the list and inserted into the correct position by comparison with its neighbours.  \n",
    "- This process is repeated until we reach the last item and there are no more left to be sorted."
   ]
  },
  {
   "cell_type": "markdown",
   "metadata": {},
   "source": [
    "![algorithm](../src/img2.png)"
   ]
  },
  {
   "cell_type": "markdown",
   "metadata": {},
   "source": [
    "Let’s begin by taking a look at some of it’s advantages:\n",
    "- It’s a simple algorithm to implement.\n",
    "- Performance is very high when operating with small lists.\n",
    "- Even more so when the list is already mostly sorted, as fewer iterations of the sorting logic need to take place."
   ]
  },
  {
   "cell_type": "markdown",
   "metadata": {},
   "source": [
    "However, the algorithm does hold some disadvantages:\n",
    "- Performance suffers when large lists are used, as this could involve carrying out a lot of comparisons and shifting of array items\n",
    "- The algorithm doesn’t perform as well as the merge sort and quick sort algorithms, both of which we’ll look at soon"
   ]
  },
  {
   "cell_type": "markdown",
   "metadata": {},
   "source": [
    "## Time Complexity"
   ]
  },
  {
   "cell_type": "markdown",
   "metadata": {},
   "source": [
    "### Average Case"
   ]
  },
  {
   "cell_type": "markdown",
   "metadata": {},
   "source": [
    "![cost](../src/img3.png)"
   ]
  },
  {
   "cell_type": "markdown",
   "metadata": {},
   "source": [
    "1) The first cost is length of our input array, A.length which is equal to n. This is because the loop is going to be iterated n number of times.  \n",
    "2) Because we don’t carry out the operation on the first item in the array (as there’s nothing to the left index of it to compare it to), step two is carried out for all the items in the array but one. This means the cost here is equal to n - 1.  \n",
    "3) The same facts apply for step 3 as step 2, also making the cost n - 1.  \n",
    "4) For iterations between j = 2 to n, we let tj represent the number of times in which the whilst loop is executed for that value of j. In step 4, this will always execute one more time than the body when the whilst loop exits in a normal way. This is because the i > 0 and A[i] > key statements need to be checked to determine whether to enter the loop or not.  \n",
    "5) As stated in Step 4, the body of the whilst loop will execute one time less than the header. If the test of the header fails then the body of the loop is not reached, making the value of tj equal to tj - 1.  \n",
    "6) The same cost for step 5 applies here.  \n",
    "7) No cost.  \n",
    "8) This step holds the same facts as step 2 + 3, so the cost here is also n - 1.  \n",
    "9) No cost.  "
   ]
  },
  {
   "cell_type": "code",
   "execution_count": null,
   "metadata": {},
   "outputs": [],
   "source": []
  }
 ],
 "metadata": {
  "kernelspec": {
   "display_name": "Python 3",
   "language": "python",
   "name": "python3"
  },
  "language_info": {
   "codemirror_mode": {
    "name": "ipython",
    "version": 3
   },
   "file_extension": ".py",
   "mimetype": "text/x-python",
   "name": "python",
   "nbconvert_exporter": "python",
   "pygments_lexer": "ipython3",
   "version": "3.8.3"
  }
 },
 "nbformat": 4,
 "nbformat_minor": 4
}
