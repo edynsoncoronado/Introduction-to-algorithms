{
 "cells": [
  {
   "cell_type": "markdown",
   "metadata": {},
   "source": [
    "# Insertion sort"
   ]
  },
  {
   "cell_type": "markdown",
   "metadata": {},
   "source": [
    "![pseudocode.png](../src/img1.png)"
   ]
  },
  {
   "cell_type": "markdown",
   "metadata": {},
   "source": [
    "- Insertion Sort is an algorithm used to sort a given list of items.  \n",
    "- It does so by iterating through the list and building the sorted output one item at a time.  \n",
    "- Upon each iteration, an item is taken from the list and inserted into the correct position by comparison with its neighbours.  \n",
    "- This process is repeated until we reach the last item and there are no more left to be sorted."
   ]
  },
  {
   "cell_type": "markdown",
   "metadata": {},
   "source": [
    "![algorithm](../src/img2.png)"
   ]
  },
  {
   "cell_type": "markdown",
   "metadata": {},
   "source": [
    "Let’s begin by taking a look at some of it’s advantages:\n",
    "- It’s a simple algorithm to implement.\n",
    "- Performance is very high when operating with small lists.\n",
    "- Even more so when the list is already mostly sorted, as fewer iterations of the sorting logic need to take place."
   ]
  },
  {
   "cell_type": "markdown",
   "metadata": {},
   "source": [
    "However, the algorithm does hold some disadvantages:\n",
    "- Performance suffers when large lists are used, as this could involve carrying out a lot of comparisons and shifting of array items\n",
    "- The algorithm doesn’t perform as well as the merge sort and quick sort algorithms, both of which we’ll look at soon"
   ]
  },
  {
   "cell_type": "markdown",
   "metadata": {},
   "source": [
    "## Time Complexity"
   ]
  },
  {
   "cell_type": "markdown",
   "metadata": {},
   "source": [
    "### Average Case"
   ]
  },
  {
   "cell_type": "markdown",
   "metadata": {},
   "source": [
    "![cost](../src/img3.png)"
   ]
  },
  {
   "cell_type": "markdown",
   "metadata": {},
   "source": [
    "1) The first cost is length of our input array, A.length which is equal to n. This is because the loop is going to be iterated n number of times.  \n",
    "2) Because we don’t carry out the operation on the first item in the array (as there’s nothing to the left index of it to compare it to), step two is carried out for all the items in the array but one. This means the cost here is equal to n - 1.  \n",
    "3) The same facts apply for step 3 as step 2, also making the cost n - 1.  \n",
    "4) For iterations between j = 2 to n, we let tj represent the number of times in which the whilst loop is executed for that value of j. In step 4, this will always execute one more time than the body when the whilst loop exits in a normal way. This is because the i > 0 and A[i] > key statements need to be checked to determine whether to enter the loop or not.  \n",
    "5) As stated in Step 4, the body of the whilst loop will execute one time less than the header. If the test of the header fails then the body of the loop is not reached, making the value of tj equal to tj - 1.  \n",
    "6) The same cost for step 5 applies here.  \n",
    "7) No cost.  \n",
    "8) This step holds the same facts as step 2 + 3, so the cost here is also n - 1.  \n",
    "9) No cost.  "
   ]
  },
  {
   "cell_type": "markdown",
   "metadata": {},
   "source": [
    "We now have the cost of each operation. So in order to calculate the running time, we need to sum all of these values from the cost column which give us."
   ]
  },
  {
   "cell_type": "markdown",
   "metadata": {},
   "source": [
    "$$ T(n) = c_{1}n + c_{2}(n-1) + c_{4}(n-1) + c_{5}\\sum_{j=2}^{n}t_{j} + c_{6}\\sum_{j=2}^{n}(t_{j}-1) + c_{7}\\sum_{j=2}^{n}(t_{j}-1) + c_{8}(n-1) $$"
   ]
  },
  {
   "cell_type": "markdown",
   "metadata": {},
   "source": [
    "### Best Case"
   ]
  },
  {
   "cell_type": "markdown",
   "metadata": {},
   "source": [
    "- This is situation that occurs when say the input array is already sorted.  \n",
    "- The steps in the algorithm will still be executed, but the while loop that does the sorting will not be entered."
   ]
  },
  {
   "cell_type": "markdown",
   "metadata": {},
   "source": [
    "- For each $j = 2, 3, ..., n$, we then find that $A[i] <= key$ in line 5 when $ i $ has its initial value of $ j - 1 $.  \n",
    "- Thus $ t_{j} = 1 $ of $ j = 2, 3, ..., n $"
   ]
  },
  {
   "cell_type": "markdown",
   "metadata": {},
   "source": [
    "$$ T(n) = c_{1}n + c_{2}(n - 1) + c_{4}(n - 1) + c_{5}(n - 1) + c_{8}(n - 1) $$\n",
    "$$ = (c_{1} + c_{2} + c_{4} + c_{5} + c_{8})n - (c_{2} + c_{4} + c_{5} + c_{8}) $$"
   ]
  },
  {
   "cell_type": "markdown",
   "metadata": {},
   "source": [
    "This can be expressed as:  \n",
    "$$ an + b $$"
   ]
  },
  {
   "cell_type": "markdown",
   "metadata": {},
   "source": [
    "Following the rules of Big-O, we can remove the constants which gives our algorithm a best case time complexity of (linear function):\n",
    "$$ O(n) $$"
   ]
  },
  {
   "cell_type": "markdown",
   "metadata": {},
   "source": [
    "### Worst Case"
   ]
  },
  {
   "cell_type": "markdown",
   "metadata": {},
   "source": [
    "- If the array is in reverse sorted order - that is, in decreasing order - the worst case results.  \n",
    "- The worst case for our algorithm occurs when the input array is in the complete opposite order from what we want it to be for being sorted.  "
   ]
  },
  {
   "cell_type": "markdown",
   "metadata": {},
   "source": [
    "- We most compare each element $ A[1 .. j-1]$, and so $ t_{j} = j $ for $ j = 2, 3, ..., n $"
   ]
  },
  {
   "cell_type": "markdown",
   "metadata": {},
   "source": [
    "$$ \\sum_{j=2}^{n}j = \\frac{n(n + 1)}{2} - 1 $$"
   ]
  },
  {
   "cell_type": "markdown",
   "metadata": {},
   "source": [
    "$$ \\sum_{j=2}^{n}(j-1) = \\frac{n(n - 1)}{2} $$ "
   ]
  },
  {
   "cell_type": "markdown",
   "metadata": {},
   "source": [
    "$$ T(n) = c_{1}n + c_{2}(n - 1) + c_{4}(n - 1) + c_{5} (\\frac{n(n+1)}{2}-1) + c_{6}(\\frac{n(n-1)}{2}) + c_{7}(\\frac{n(n-1)}{2})+c_{8}(n-1)$$"
   ]
  },
  {
   "cell_type": "markdown",
   "metadata": {},
   "source": [
    "$$ = (\\frac{c_{5}}{2}+\\frac{c_{6}}{2}+\\frac{c_{7}}{2})n^2 + (c_{1} + c_{2} + c_{4} + \\frac{c_{5}}{2} - \\frac{c_{6}}{2} - \\frac{c_{7}}{2} + c_{8})n - (c_{2} + c_{4} + c_{5} + c_{8}) $$"
   ]
  },
  {
   "cell_type": "markdown",
   "metadata": {},
   "source": [
    "The final step being able to be expressed as (quadratic function):\n",
    "$$ an^2 + bn + c $$"
   ]
  },
  {
   "cell_type": "markdown",
   "metadata": {},
   "source": [
    "$$ O(n^2) $$"
   ]
  },
  {
   "cell_type": "markdown",
   "metadata": {},
   "source": [
    "## Example"
   ]
  },
  {
   "cell_type": "code",
   "execution_count": 27,
   "metadata": {},
   "outputs": [],
   "source": [
    "def insertionSort(arr):\n",
    "    for j in range(1, len(arr)):\n",
    "        key = arr[j]\n",
    "        i = j - 1\n",
    "        while i >= 0 and arr[i] > key:\n",
    "            arr[i + 1] = arr[i]\n",
    "            i -= 1\n",
    "        arr[i + 1] = key\n",
    "        print(j, arr)"
   ]
  },
  {
   "cell_type": "code",
   "execution_count": 28,
   "metadata": {},
   "outputs": [],
   "source": [
    "a = [9, 7, 5, 8, 3]"
   ]
  },
  {
   "cell_type": "code",
   "execution_count": 30,
   "metadata": {},
   "outputs": [
    {
     "name": "stdout",
     "output_type": "stream",
     "text": [
      "1 [3, 5, 7, 8, 9]\n",
      "2 [3, 5, 7, 8, 9]\n",
      "3 [3, 5, 7, 8, 9]\n",
      "4 [3, 5, 7, 8, 9]\n"
     ]
    }
   ],
   "source": [
    "insertionSort(a)"
   ]
  },
  {
   "cell_type": "markdown",
   "metadata": {},
   "source": [
    "Resources:\n",
    "- https://medium.com/@hitherejoe/algorithms-insertion-sort-eec0e245ec42\n",
    "- https://www.geeksforgeeks.org/python-program-for-insertion-sort/\n",
    "- https://medium.com/analytics-vidhya/writing-math-equations-in-jupyter-notebook-a-naive-introduction-a5ce87b9a214\n",
    "- https://brilliant.org/wiki/insertion/"
   ]
  }
 ],
 "metadata": {
  "kernelspec": {
   "display_name": "Python 3",
   "language": "python",
   "name": "python3"
  },
  "language_info": {
   "codemirror_mode": {
    "name": "ipython",
    "version": 3
   },
   "file_extension": ".py",
   "mimetype": "text/x-python",
   "name": "python",
   "nbconvert_exporter": "python",
   "pygments_lexer": "ipython3",
   "version": "3.8.3"
  }
 },
 "nbformat": 4,
 "nbformat_minor": 4
}
