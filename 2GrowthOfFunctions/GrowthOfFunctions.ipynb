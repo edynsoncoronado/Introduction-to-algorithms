{
 "cells": [
  {
   "cell_type": "markdown",
   "metadata": {},
   "source": [
    "![asymtotic notation](../src/img31.png)"
   ]
  },
  {
   "cell_type": "markdown",
   "metadata": {},
   "source": [
    "Las asintóticas son funciones que pasan muy cerca pero nunca se cruzan."
   ]
  },
  {
   "cell_type": "markdown",
   "metadata": {},
   "source": [
    "** La notación asintótica se utiliza para 'medir la eficiencia' (velocidad de ejecución) de un algoritmo, sin importar la máquina o el lenguaje de programación utilizado. Esto se logra midiendo qué tan rápido crece una función con el tamaño de su entrada que se denomina n."
   ]
  },
  {
   "cell_type": "markdown",
   "metadata": {},
   "source": [
    "Estamos interesados en el tiempo, no solo en los intentos.  \n",
    "El tiempo de ejecución de un algoritmo depende de cuánto tiempo le tome a una computadora ejecutar las líneas de código del algoritmo, y eso depende de la velocidad de la computadora, el lenguaje de programación y el compilador que traduce el programa del lenguaje de programación al código que se ejecuta directamente en la computadora, entre otros factores.  "
   ]
  },
  {
   "cell_type": "markdown",
   "metadata": {},
   "source": [
    "Primero, necesitamos determinar cuánto tiempo se tarda el algoritmo, en términos del tamaño de su entrada.    \n",
    "Así que pensamos acerca del tiempo de ejecución del algoritmo como una función del tamaño de su entrada."
   ]
  },
  {
   "cell_type": "markdown",
   "metadata": {},
   "source": [
    "La segunda idea es que debemos enfocarnos en qué tan rápido crece una función con el tamaño de la entrada.   \n",
    "A esto lo llamamos la tasa de crecimiento del tiempo de ejecución."
   ]
  },
  {
   "cell_type": "markdown",
   "metadata": {},
   "source": [
    "Para mantener las cosas manejables, tenemos que simplificar la función para extraer la parte más importante y dejar de lado las partes menos importantes. "
   ]
  },
  {
   "cell_type": "markdown",
   "metadata": {},
   "source": [
    "Por ejemplo, supón que un algoritmo, que corre con un entrada de tamaño $n$, se tarda $ 6n^2 + 100n + 300$."
   ]
  },
  {
   "cell_type": "markdown",
   "metadata": {},
   "source": [
    "![crecimiento](../src/img28.png)"
   ]
  },
  {
   "cell_type": "markdown",
   "metadata": {},
   "source": [
    "Diríamos que el tiempo de ejecución de este algoritmo crece como $n^2$, descartando el coeficiente $6$ y los términos restantes $100n+300$. En realidad no importa qué coeficiente usemos; siempre que el tiempo de ejecución sea $ an^2 + bn + c $, para a>0, siempre habrá un valor de $n$ para el cual $an^2$ sea mayor que $bn + c$, y esta diferencia aumenta a medida que $n$ aumenta."
   ]
  },
  {
   "cell_type": "markdown",
   "metadata": {},
   "source": [
    "Cuando descartamos los coeficientes constantes y los términos menos significativos, usamos notación asintótica."
   ]
  },
  {
   "cell_type": "markdown",
   "metadata": {},
   "source": [
    "## Complejidad Tiempo"
   ]
  },
  {
   "cell_type": "markdown",
   "metadata": {},
   "source": [
    "![complejidad en el tiempo](../src/img11TN1.png)"
   ]
  },
  {
   "cell_type": "markdown",
   "metadata": {},
   "source": [
    "![TN](../src/img11TN2.png)"
   ]
  },
  {
   "cell_type": "markdown",
   "metadata": {},
   "source": [
    "## Big Θ"
   ]
  },
  {
   "cell_type": "markdown",
   "metadata": {},
   "source": [
    "![theta](../src/img21Theta.png)"
   ]
  },
  {
   "cell_type": "markdown",
   "metadata": {},
   "source": [
    "![img35](../src/img35.png)"
   ]
  },
  {
   "cell_type": "markdown",
   "metadata": {},
   "source": [
    "## Big Ω"
   ]
  },
  {
   "cell_type": "markdown",
   "metadata": {},
   "source": [
    "![bigomega](../src/img18BigOmega.png)"
   ]
  },
  {
   "cell_type": "markdown",
   "metadata": {},
   "source": [
    "![algoritmo](../src/img18LittleOmega.png)"
   ]
  },
  {
   "cell_type": "markdown",
   "metadata": {},
   "source": [
    "## Big O"
   ]
  },
  {
   "cell_type": "markdown",
   "metadata": {},
   "source": [
    "- BigO - Notación Asintótica de límite superior.\n",
    "- Encontrar el crecimiento **>=** que la complejidad en el tiempo."
   ]
  },
  {
   "cell_type": "markdown",
   "metadata": {},
   "source": [
    "![límite máximo](../src/img8.png)"
   ]
  },
  {
   "cell_type": "markdown",
   "metadata": {},
   "source": [
    "![BigO](../src/img30bigO.png)"
   ]
  },
  {
   "cell_type": "markdown",
   "metadata": {},
   "source": [
    "La función de complejidad temporal puede ser clasificada como Notación BigO, si y solo si, la función de crecimiento multiplicada por una constante positiva es mayor o igual que a la función de complejidad para todo $n$ mayor a $n_0$."
   ]
  },
  {
   "cell_type": "markdown",
   "metadata": {},
   "source": [
    "## Little O"
   ]
  },
  {
   "cell_type": "markdown",
   "metadata": {},
   "source": [
    "- Encontrar el crecimiento **>** que la complejidad en el tiempo."
   ]
  },
  {
   "cell_type": "markdown",
   "metadata": {},
   "source": [
    "## Big O vs Little o"
   ]
  },
  {
   "cell_type": "markdown",
   "metadata": {},
   "source": [
    "![comparación](../src/img10LittleO2.png)"
   ]
  },
  {
   "cell_type": "markdown",
   "metadata": {},
   "source": [
    "BigO y LittleO, no son funciones, son notaciones. Son un enunciado:  \n",
    "Existe el crecimiento ... que cumple las condiciones  ..."
   ]
  },
  {
   "cell_type": "markdown",
   "metadata": {},
   "source": [
    "$O(?)$  \n",
    "Pero realmente, !Sí existe una función aquí¡  \n",
    "$O(g(n))$"
   ]
  },
  {
   "cell_type": "markdown",
   "metadata": {},
   "source": [
    "![versus](../src/img13BigOLittleO.png)"
   ]
  },
  {
   "cell_type": "markdown",
   "metadata": {},
   "source": [
    "## La notación aún está incompleta, falta la constante:"
   ]
  },
  {
   "cell_type": "markdown",
   "metadata": {},
   "source": [
    "![constante](../src/img13Constante.png)"
   ]
  },
  {
   "cell_type": "markdown",
   "metadata": {},
   "source": [
    "### Ahora que ya sabemos lo que es T(n), y los tipos de notación asintótica, podemos definir el algoritmo."
   ]
  },
  {
   "cell_type": "markdown",
   "metadata": {},
   "source": [
    "![algoritmo](../src/img14NotaciónAsintótica.png)"
   ]
  },
  {
   "cell_type": "markdown",
   "metadata": {},
   "source": [
    "### Un algoritmo se mide por su complejidad en el tiempo, y esta se clasifica como notación asintótica."
   ]
  },
  {
   "cell_type": "markdown",
   "metadata": {},
   "source": [
    "La notación asintótica es una forma de clasificar algoritmos de 5 maneras."
   ]
  },
  {
   "cell_type": "markdown",
   "metadata": {},
   "source": [
    "## Eficiencia de algoritmos"
   ]
  },
  {
   "cell_type": "markdown",
   "metadata": {},
   "source": [
    "![Eficiencia algoritmos](../src/img15Eficiencia.png)"
   ]
  },
  {
   "cell_type": "markdown",
   "metadata": {},
   "source": [
    "![eficiencia](../src/img29.png)"
   ]
  },
  {
   "cell_type": "markdown",
   "metadata": {},
   "source": [
    "## $n_0$"
   ]
  },
  {
   "cell_type": "markdown",
   "metadata": {},
   "source": [
    "![Notación](../src/img16n0.png)"
   ]
  },
  {
   "cell_type": "markdown",
   "metadata": {},
   "source": [
    "$n_0$ es el valor mínimo desde la cual se cumple la condición de la notación asintótica"
   ]
  },
  {
   "cell_type": "markdown",
   "metadata": {},
   "source": [
    "### Esto no puede ocurrir"
   ]
  },
  {
   "cell_type": "markdown",
   "metadata": {},
   "source": [
    "![F](../src/img17.png)"
   ]
  },
  {
   "cell_type": "markdown",
   "metadata": {},
   "source": [
    "## Conclusión"
   ]
  },
  {
   "cell_type": "markdown",
   "metadata": {},
   "source": [
    "### - little O, crecimiento mayor a la complejidad."
   ]
  },
  {
   "cell_type": "markdown",
   "metadata": {},
   "source": [
    "![LittleO](../src/img22littleO.png)"
   ]
  },
  {
   "cell_type": "markdown",
   "metadata": {},
   "source": [
    "### - big O, crecimiento mayor o igual a la complejidad."
   ]
  },
  {
   "cell_type": "markdown",
   "metadata": {},
   "source": [
    "![bigO](../src/img23bigO.png)"
   ]
  },
  {
   "cell_type": "markdown",
   "metadata": {},
   "source": [
    "### - big theta, crecimiento igual a la complejidad."
   ]
  },
  {
   "cell_type": "markdown",
   "metadata": {},
   "source": [
    "![theta](../src/img24bigTheta.png)"
   ]
  },
  {
   "cell_type": "markdown",
   "metadata": {},
   "source": [
    "### - big omega, crecimiento menor o igual a la complejidad"
   ]
  },
  {
   "cell_type": "markdown",
   "metadata": {},
   "source": [
    "![omega](../src/img25bigOmega.png)"
   ]
  },
  {
   "cell_type": "markdown",
   "metadata": {},
   "source": [
    "### - little omega, crecimiento menor a la complejidad"
   ]
  },
  {
   "cell_type": "markdown",
   "metadata": {},
   "source": [
    "![littleomega](../src/img26littleOmega.png)"
   ]
  },
  {
   "cell_type": "markdown",
   "metadata": {},
   "source": [
    "### Ejemplo1"
   ]
  },
  {
   "cell_type": "markdown",
   "metadata": {},
   "source": [
    "![Comparación](../src/img27Comparación.png)"
   ]
  },
  {
   "cell_type": "markdown",
   "metadata": {},
   "source": [
    "![explicación](../src/img27Comparación2.png)"
   ]
  },
  {
   "cell_type": "markdown",
   "metadata": {},
   "source": [
    "### Ejemplo2"
   ]
  },
  {
   "cell_type": "markdown",
   "metadata": {},
   "source": [
    "![img32](../src/img32.png)"
   ]
  },
  {
   "cell_type": "markdown",
   "metadata": {},
   "source": [
    "![img33](../src/img33.png)"
   ]
  },
  {
   "cell_type": "markdown",
   "metadata": {},
   "source": [
    "![img334](../src/img34.png)"
   ]
  },
  {
   "cell_type": "markdown",
   "metadata": {},
   "source": [
    "# El propósito de la ingeniería de software es controlar la complejidad, no crearla."
   ]
  },
  {
   "cell_type": "markdown",
   "metadata": {},
   "source": [
    "Resources:\n",
    "- https://www.youtube.com/watch?v=HcDV5MGGrRE\n",
    "- https://es.khanacademy.org/computing/computer-science/algorithms/asymptotic-notation/a/big-big-omega-notation"
   ]
  }
 ],
 "metadata": {
  "kernelspec": {
   "display_name": "Python 3",
   "language": "python",
   "name": "python3"
  },
  "language_info": {
   "codemirror_mode": {
    "name": "ipython",
    "version": 3
   },
   "file_extension": ".py",
   "mimetype": "text/x-python",
   "name": "python",
   "nbconvert_exporter": "python",
   "pygments_lexer": "ipython3",
   "version": "3.8.3"
  }
 },
 "nbformat": 4,
 "nbformat_minor": 4
}
